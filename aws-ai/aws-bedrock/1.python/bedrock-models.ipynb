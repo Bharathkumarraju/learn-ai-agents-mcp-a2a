{
 "cells": [
  {
   "cell_type": "code",
   "execution_count": 6,
   "id": "892b1320",
   "metadata": {},
   "outputs": [
    {
     "name": "stdout",
     "output_type": "stream",
     "text": [
      "{'ResponseMetadata': {'RequestId': '7a0e093d-f9ab-4a45-ba33-a4d84f1c1308', 'HTTPStatusCode': 200, 'HTTPHeaders': {'date': 'Sat, 25 Oct 2025 10:14:36 GMT', 'content-type': 'application/json', 'content-length': '1988', 'connection': 'keep-alive', 'x-amzn-requestid': '7a0e093d-f9ab-4a45-ba33-a4d84f1c1308'}, 'RetryAttempts': 0}, 'modelDetails': {'modelArn': 'arn:aws:bedrock:ap-south-1::foundation-model/deepseek.v3-v1:0', 'modelId': 'deepseek.v3-v1:0', 'modelName': 'DeepSeek-V3.1', 'providerName': 'DeepSeek', 'inputModalities': ['TEXT'], 'outputModalities': ['TEXT'], 'responseStreamingSupported': True, 'customizationsSupported': [], 'inferenceTypesSupported': ['ON_DEMAND'], 'modelLifecycle': {'status': 'ACTIVE'}}}\n"
     ]
    }
   ],
   "source": [
    "import boto3\n",
    "\n",
    "bedrock = boto3.client(\n",
    "    service_name = 'bedrock',\n",
    "    region_name = 'ap-south-1',\n",
    "    endpoint_url = 'https://bedrock.ap-south-1.amazonaws.com'\n",
    ")\n",
    "response = bedrock.list_foundation_models()\n",
    "# response.get('modelSummaries')\n",
    "response = bedrock.get_foundation_model(\n",
    "    modelIdentifier = 'deepseek.v3-v1:0'\n",
    ")\n",
    "print(response)\n"
   ]
  },
  {
   "cell_type": "code",
   "execution_count": null,
   "id": "e0990b73",
   "metadata": {},
   "outputs": [],
   "source": []
  },
  {
   "cell_type": "code",
   "execution_count": null,
   "id": "79ed02e2",
   "metadata": {},
   "outputs": [],
   "source": []
  }
 ],
 "metadata": {
  "kernelspec": {
   "display_name": "Python 3",
   "language": "python",
   "name": "python3"
  },
  "language_info": {
   "codemirror_mode": {
    "name": "ipython",
    "version": 3
   },
   "file_extension": ".py",
   "mimetype": "text/x-python",
   "name": "python",
   "nbconvert_exporter": "python",
   "pygments_lexer": "ipython3",
   "version": "3.12.3"
  }
 },
 "nbformat": 4,
 "nbformat_minor": 5
}
