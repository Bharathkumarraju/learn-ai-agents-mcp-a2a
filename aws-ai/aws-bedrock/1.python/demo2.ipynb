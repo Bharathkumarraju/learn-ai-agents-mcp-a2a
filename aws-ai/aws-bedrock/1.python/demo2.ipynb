{
 "cells": [
  {
   "cell_type": "code",
   "execution_count": null,
   "id": "edd2f160",
   "metadata": {},
   "outputs": [
    {
     "data": {
      "text/markdown": [
       "### AI-Generated Story\n",
       "\n",
       "\n",
       "Once upon a time, there was a mother cat and her young kittens by the name of Timmy and Puss. They all lived in the forest together, and the mother cat was a good hunter and a very caring mother. One day, a group of hunters came into the forest and started killing animals. The mother cat and her kittens were very scared because they had nowhere to go. They decided to hide in the bushes until the hunters left. After a few hours, the hunters left and the mother cat and her kittens came out of the bushes. They were very happy to see that they were still alive. From that day on, they lived in the forest happily ever after."
      ],
      "text/plain": [
       "<IPython.core.display.Markdown object>"
      ]
     },
     "metadata": {},
     "output_type": "display_data"
    }
   ],
   "source": [
    "import boto3, json\n",
    "\n",
    "# Initialize the Bedrock Runtime client\n",
    "client = boto3.client(service_name=\"bedrock-runtime\", region_name=\"ap-south-1\")\n",
    "\n",
    "# Define the prompt text\n",
    "prompt_text = \"Create a story about two kittens.\"\n",
    "\n",
    "# Define the request payload\n",
    "payload = {\n",
    "    \"inputText\": prompt_text,\n",
    "    \"textGenerationConfig\": {\n",
    "        \"maxTokenCount\": 500,  # Maximum tokens to generate\n",
    "        \"stopSequences\": [],    # No stop sequences\n",
    "        \"temperature\": 0.7,       # No randomness\n",
    "        \"topP\": 1               # Consider top 100% of probabilities\n",
    "    }\n",
    "}\n",
    "# Make API request\n",
    "response = client.invoke_model(\n",
    "    modelId=\"amazon.titan-text-lite-v1\",  # Model ID\n",
    "    contentType=\"application/json\",\n",
    "    accept=\"application/json\",\n",
    "    body=json.dumps(payload)  # Convert dictionary to JSON string\n",
    ")\n",
    "# Parse response\n",
    "response_body = json.loads(response[\"body\"].read())\n",
    "\n",
    "#Display response in a Jupyter notebook\n",
    "from IPython.display import display, Markdown\n",
    "\n",
    "story_text = response_body.get(\"results\", [{}])[0].get(\"outputText\", \"No response generated.\")\n",
    "display(Markdown(f\"### AI-Generated Story\\n\\n{story_text}\"))"
   ]
  }
 ],
 "metadata": {
  "kernelspec": {
   "display_name": "Python 3",
   "language": "python",
   "name": "python3"
  },
  "language_info": {
   "codemirror_mode": {
    "name": "ipython",
    "version": 3
   },
   "file_extension": ".py",
   "mimetype": "text/x-python",
   "name": "python",
   "nbconvert_exporter": "python",
   "pygments_lexer": "ipython3",
   "version": "3.12.3"
  }
 },
 "nbformat": 4,
 "nbformat_minor": 5
}
