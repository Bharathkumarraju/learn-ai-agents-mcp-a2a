{
 "cells": [
  {
   "cell_type": "code",
   "execution_count": 10,
   "id": "aef9fbcd",
   "metadata": {},
   "outputs": [
    {
     "name": "stdout",
     "output_type": "stream",
     "text": [
      "hello\n",
      "current working directory /Users/bharathkumardasaraju/external/learn-ai-agents-mcp-a2a/aws-ai/aws-bedrock/1.python\n"
     ]
    }
   ],
   "source": [
    "print(\"hello\")\n",
    "\n",
    "\n",
    "import os\n",
    "\n",
    "print(\"current working directory\", os.getcwd())\n",
    "\n",
    "\n",
    "\n",
    "import boto3, json\n",
    "\n",
    "def send_prompt_to_bedrock():\n",
    "    # Initialize the Bedrock Runtime client\n",
    "    client = boto3.client(service_name=\"bedrock-runtime\", region_name=\"ap-south-1\")\n",
    "\n",
    "    # Define the prompt text\n",
    "    prompt_text = \"Create a story about two dogs.\"\n",
    "\n",
    "    # Define the request payload\n",
    "    payload = {\n",
    "        \"inputText\": prompt_text,\n",
    "        \"textGenerationConfig\": {\n",
    "            \"maxTokenCount\": 4096,  # Maximum tokens to generate\n",
    "            \"stopSequences\": [],    # No stop sequences\n",
    "            \"temperature\": 0,       # No randomness\n",
    "            \"topP\": 1               # Consider top 100% of probabilities\n",
    "        }\n",
    "    }\n",
    "\n",
    "    # Make API request\n",
    "    response = client.invoke_model(\n",
    "        modelId=\"amazon.titan-text-lite-v1\",  # Model ID\n",
    "        contentType=\"application/json\",\n",
    "        accept=\"application/json\",\n",
    "        body=json.dumps(payload)  # Convert dictionary to JSON string\n",
    "    )\n",
    "\n",
    "    # Parse response\n",
    "    response_body = json.loads(response[\"body\"].read())\n",
    "\n",
    "    from IPython.display import display, Markdown\n",
    "\n",
    "    story_text = response_body.get(\"results\", [{}])[0].get(\"outputText\", \"No response generated.\")\n",
    "    display(Markdown(f\"### AI-Generated Story\\n\\n{story_text}\"))\n",
    "\n",
    "    # return response_body  # Return the full response\n",
    "\n",
    "\n",
    "\n",
    "# # Example Usage\n",
    "# if __name__ == \"__main__\":\n",
    "#     result = send_prompt_to_bedrock()\n",
    "#     print(json.dumps(result, indent=2, sort_keys=True, ensure_ascii=False))\n"
   ]
  }
 ],
 "metadata": {
  "kernelspec": {
   "display_name": "Python 3",
   "language": "python",
   "name": "python3"
  },
  "language_info": {
   "codemirror_mode": {
    "name": "ipython",
    "version": 3
   },
   "file_extension": ".py",
   "mimetype": "text/x-python",
   "name": "python",
   "nbconvert_exporter": "python",
   "pygments_lexer": "ipython3",
   "version": "3.12.3"
  }
 },
 "nbformat": 4,
 "nbformat_minor": 5
}
